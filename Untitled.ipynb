{
 "cells": [
  {
   "cell_type": "code",
   "execution_count": 2,
   "metadata": {},
   "outputs": [],
   "source": [
    "import requests\n",
    "import sqlite3\n",
    "from lxml import etree\n",
    "import settings"
   ]
  },
  {
   "cell_type": "code",
   "execution_count": 7,
   "metadata": {},
   "outputs": [
    {
     "name": "stdout",
     "output_type": "stream",
     "text": [
      "Pull!!! -> http://www.nytimes.com/svc/collections/v1/publish/www.nytimes.com/column/paul-krugman/rss.xml\n"
     ]
    }
   ],
   "source": [
    "con = sqlite3.connect(settings.db_location)\n",
    "c = con.cursor()\n",
    "r = c.execute(\"SELECT * FROM sources;\")\n",
    "\n",
    "for row in r:\n",
    "    if row[3] == 1:\n",
    "        print('Pull!!! -> {connect_point}'.format(connect_point=row[2]))\n",
    "        url = row[2]"
   ]
  },
  {
   "cell_type": "code",
   "execution_count": 17,
   "metadata": {},
   "outputs": [],
   "source": [
    "tree = etree.fromstring(requests.get(url).text)"
   ]
  },
  {
   "cell_type": "code",
   "execution_count": 23,
   "metadata": {},
   "outputs": [],
   "source": [
    "articles = tree.findall('.//item')"
   ]
  },
  {
   "cell_type": "code",
   "execution_count": 39,
   "metadata": {},
   "outputs": [],
   "source": [
    "for article in articles:\n",
    "    article_details = article.getchildren()"
   ]
  },
  {
   "cell_type": "code",
   "execution_count": 40,
   "metadata": {},
   "outputs": [],
   "source": [
    "article_data = {}\n",
    "for item in article_details:\n",
    "    article_data[item.tag] = item.text"
   ]
  },
  {
   "cell_type": "code",
   "execution_count": 41,
   "metadata": {},
   "outputs": [
    {
     "data": {
      "text/plain": [
       "{'title': 'Republicans Only Pretend to Be Patriots',\n",
       " 'link': 'https://www.nytimes.com/2019/09/23/opinion/democrats-republicans.html',\n",
       " 'description': 'And Democrats need to expose them for what they are.',\n",
       " 'author': 'By Paul Krugman',\n",
       " 'pubDate': 'Mon, 23 Sep 2019 22:00:06 GMT'}"
      ]
     },
     "execution_count": 41,
     "metadata": {},
     "output_type": "execute_result"
    }
   ],
   "source": [
    "article_data['']"
   ]
  },
  {
   "cell_type": "code",
   "execution_count": 3,
   "metadata": {},
   "outputs": [],
   "source": [
    "class seek(object):\n",
    "    def __init__(self, db_location=settings.db_location):\n",
    "        self.db_location = db_location\n",
    "        \n",
    "    def _connect_to_db(self):\n",
    "        \"\"\"Returns connection to package sqlite db, which holds all source urls \n",
    "        as well as articles which have been previously uplaoded to Instapaper by the application\"\"\"\n",
    "        con = sqlite3.connect(self.db_location)\n",
    "        return con\n",
    "    \n",
    "    def _gather_sources(self, connection):\n",
    "        \"\"\"Gathers active sources from the package db which will be referenced\n",
    "        by the application when seeking newly published articles\"\"\"\n",
    "        source_query = \"\"\"SELECT connect_point, type FROM sources WHERE status=1;\"\"\"\n",
    "    \n",
    "        c = con.cursor()\n",
    "        \n",
    "        source_dict = {}\n",
    "        for row in c.execute(source_query):\n",
    "            connect_point, _type = row\n",
    "            if _type in source_dict.keys():\n",
    "                soruce_dict[_type].append(connect_point)\n",
    "            else:\n",
    "                source_dict[_type] = [connect_point]\n",
    "        return source_dict\n",
    "\n",
    "    def "
   ]
  },
  {
   "cell_type": "code",
   "execution_count": null,
   "metadata": {},
   "outputs": [],
   "source": []
  }
 ],
 "metadata": {
  "kernelspec": {
   "display_name": "new_and_readworthy",
   "language": "python",
   "name": "new_and_readworthy"
  },
  "language_info": {
   "codemirror_mode": {
    "name": "ipython",
    "version": 3
   },
   "file_extension": ".py",
   "mimetype": "text/x-python",
   "name": "python",
   "nbconvert_exporter": "python",
   "pygments_lexer": "ipython3",
   "version": "3.7.4"
  }
 },
 "nbformat": 4,
 "nbformat_minor": 4
}
