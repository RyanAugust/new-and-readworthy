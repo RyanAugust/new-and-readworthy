{
 "cells": [
  {
   "cell_type": "code",
   "execution_count": 50,
   "metadata": {},
   "outputs": [],
   "source": [
    "import requests\n",
    "import sqlite3\n",
    "from lxml import etree\n",
    "import settings\n",
    "import datetime\n",
    "\n",
    "class inbound_local(object):\n",
    "    def __init__(self, db_location=settings.db_location):\n",
    "        self.db_location = db_location\n",
    "        \n",
    "    def _connect_to_db(self):\n",
    "        \"\"\"Returns connection to package sqlite db, which holds all source urls \n",
    "        as well as articles which have been previously uplaoded to Instapaper by the application\"\"\"\n",
    "        con = sqlite3.connect(self.db_location)\n",
    "        return con\n",
    "    \n",
    "    def _gather_sources(self):\n",
    "        \"\"\"Gathers active sources from the package db which will be referenced\n",
    "        by the application when seeking newly published articles\"\"\"\n",
    "        source_query = \"\"\"SELECT name, connect_point, type FROM sources WHERE status=1;\"\"\"\n",
    "        con = self._connect_to_db()\n",
    "        c = con.cursor()\n",
    "        \n",
    "        source_dict = {}\n",
    "        for row in c.execute(source_query):\n",
    "            name, connect_point, _type = row\n",
    "            if _type in source_dict.keys():\n",
    "                source_dict[_type].append((name,connect_point))\n",
    "            else:\n",
    "                source_dict[_type] = [(name,connect_point)]\n",
    "        con.commit()\n",
    "        con.close()\n",
    "        return source_dict\n",
    "\n",
    "    def _rss_gather(self, source_name, rss_feed_link):\n",
    "        \"\"\"Pull all articles given a rss feed link\n",
    "        Details that are passed back will mirror those required for insertion into the articles table\n",
    "        (name, source, connect_point, publish_time)\"\"\"\n",
    "        tree = etree.fromstring(requests.get(rss_feed_link).text)\n",
    "        articles = tree.findall('.//item')\n",
    "\n",
    "        articles_details = []\n",
    "        status = 0\n",
    "        _type = 'RSS'\n",
    "        for article in articles:\n",
    "            articles_details.append((article.find('title').text, source_name,\n",
    "                                     article.find('link').text, article.find('pubDate').text))\n",
    "        return articles_details\n",
    "\n",
    "    def _store_article_details(self):\n",
    "        \"\"\"First checks that there are articles waiting to be written into the local db\n",
    "        then connects and inserts each article into the `articles` table\"\"\"\n",
    "        \n",
    "        assert len(self.collected_articles) > 0, \"No articles collected.\"\n",
    "        \n",
    "        con = self._connect_to_db()\n",
    "        c = con.cursor()\n",
    "        insert_query = \"\"\"INSERT INTO articles (name, source, connect_point, publish_time, insert_time, uploaded)\n",
    "        VALUES(?,?,?,?,?,?)\"\"\"\n",
    "        uploaded = False\n",
    "        insert_time = datetime.datetime.now().strftime('%Y-%m-%d %H:%M:00')\n",
    "        \n",
    "        article_insert = []\n",
    "        for article in self.collected_articles:\n",
    "            name, source, connect_point, publish_time = article\n",
    "            article_insert.append((name, source, connect_point, publish_time, insert_time, uploaded))\n",
    "        print(article_insert)\n",
    "        c.executemany(insert_query, article_insert)\n",
    "        con.commit()\n",
    "        con.close()\n",
    "        return 0\n",
    "                        \n",
    "    def check_sources(self):\n",
    "        source_dict = self._gather_sources()\n",
    "        article_details = []\n",
    "        if 'RSS' in source_dict.keys():\n",
    "            for source in source_dict['RSS']:\n",
    "                source_name, rss_feed_link = source\n",
    "                article_details += self._rss_gather(source_name=source_name,\n",
    "                                                        rss_feed_link=rss_feed_link)\n",
    "                print('Sourced: {source_name}'.format(source_name=source_name))\n",
    "        elif 'Medium' in source_dict.keys():\n",
    "            for source in source_dict['Medium']:\n",
    "                source_name, medium_link = source\n",
    "                article_details += self._medium_gather(source_name=source_name,\n",
    "                                                           medium_link=medium_link)\n",
    "        self.collected_articles = article_details\n",
    "        return 0\n",
    "    \n",
    "    def add_source(self, name, _type, connect_point, status):\n",
    "        con = sqlite3.connect(self.db_location)\n",
    "        c = con.cursor()\n",
    "        insert_query = \"\"\"INSERT INTO sources (name, type, connect_point, status, insert_time)\n",
    "                VALUES(?,?,?,?,?)\"\"\"\n",
    "        c.execute(\n",
    "                      insert_query, (name, _type, connect_point, status, \n",
    "                      datetime.datetime.now().strftime('%Y-%m-%d %H:%M:00'))\n",
    "                     )\n",
    "        con.commit()\n",
    "        con.close()\n",
    "        return 0\n",
    "    def _turn_off_source(self, source_name):\n",
    "        con = sqlite3.connect(self.db_location)\n",
    "        c = con.cursor()\n",
    "        off_query = \"\"\"UPDATE sources SET status=0 WHERE name=?\"\"\"\n",
    "        c.execute(off_query, (source_name,))\n",
    "        con.commit()\n",
    "        con.close()\n",
    "        print('{} turned off'.format(source_name))\n",
    "        return 0"
   ]
  },
  {
   "cell_type": "code",
   "execution_count": 51,
   "metadata": {},
   "outputs": [],
   "source": [
    "l_train = inbound_local()"
   ]
  },
  {
   "cell_type": "code",
   "execution_count": 52,
   "metadata": {},
   "outputs": [
    {
     "name": "stdout",
     "output_type": "stream",
     "text": [
      "The Upshot turned off\n"
     ]
    },
    {
     "data": {
      "text/plain": [
       "0"
      ]
     },
     "execution_count": 52,
     "metadata": {},
     "output_type": "execute_result"
    }
   ],
   "source": [
    "l_train._turn_off_source(source_name='The Upshot')"
   ]
  },
  {
   "cell_type": "code",
   "execution_count": 46,
   "metadata": {},
   "outputs": [
    {
     "name": "stdout",
     "output_type": "stream",
     "text": [
      "Sourced: Paul Krugman\n"
     ]
    },
    {
     "ename": "ValueError",
     "evalue": "Unicode strings with encoding declaration are not supported. Please use bytes input or XML fragments without declaration.",
     "output_type": "error",
     "traceback": [
      "\u001b[0;31m---------------------------------------------------------------------------\u001b[0m",
      "\u001b[0;31mValueError\u001b[0m                                Traceback (most recent call last)",
      "\u001b[0;32m<ipython-input-46-f4803a245ac4>\u001b[0m in \u001b[0;36m<module>\u001b[0;34m\u001b[0m\n\u001b[0;32m----> 1\u001b[0;31m \u001b[0ml_train\u001b[0m\u001b[0;34m.\u001b[0m\u001b[0mcheck_sources\u001b[0m\u001b[0;34m(\u001b[0m\u001b[0;34m)\u001b[0m\u001b[0;34m\u001b[0m\u001b[0;34m\u001b[0m\u001b[0m\n\u001b[0m",
      "\u001b[0;32m<ipython-input-44-e58edf7b16c0>\u001b[0m in \u001b[0;36mcheck_sources\u001b[0;34m(self)\u001b[0m\n\u001b[1;32m     78\u001b[0m                 \u001b[0msource_name\u001b[0m\u001b[0;34m,\u001b[0m \u001b[0mrss_feed_link\u001b[0m \u001b[0;34m=\u001b[0m \u001b[0msource\u001b[0m\u001b[0;34m\u001b[0m\u001b[0;34m\u001b[0m\u001b[0m\n\u001b[1;32m     79\u001b[0m                 article_details += self._rss_gather(source_name=source_name,\n\u001b[0;32m---> 80\u001b[0;31m                                                         rss_feed_link=rss_feed_link)\n\u001b[0m\u001b[1;32m     81\u001b[0m                 \u001b[0mprint\u001b[0m\u001b[0;34m(\u001b[0m\u001b[0;34m'Sourced: {source_name}'\u001b[0m\u001b[0;34m.\u001b[0m\u001b[0mformat\u001b[0m\u001b[0;34m(\u001b[0m\u001b[0msource_name\u001b[0m\u001b[0;34m=\u001b[0m\u001b[0msource_name\u001b[0m\u001b[0;34m)\u001b[0m\u001b[0;34m)\u001b[0m\u001b[0;34m\u001b[0m\u001b[0;34m\u001b[0m\u001b[0m\n\u001b[1;32m     82\u001b[0m         \u001b[0;32melif\u001b[0m \u001b[0;34m'Medium'\u001b[0m \u001b[0;32min\u001b[0m \u001b[0msource_dict\u001b[0m\u001b[0;34m.\u001b[0m\u001b[0mkeys\u001b[0m\u001b[0;34m(\u001b[0m\u001b[0;34m)\u001b[0m\u001b[0;34m:\u001b[0m\u001b[0;34m\u001b[0m\u001b[0;34m\u001b[0m\u001b[0m\n",
      "\u001b[0;32m<ipython-input-44-e58edf7b16c0>\u001b[0m in \u001b[0;36m_rss_gather\u001b[0;34m(self, source_name, rss_feed_link)\u001b[0m\n\u001b[1;32m     37\u001b[0m         \u001b[0mDetails\u001b[0m \u001b[0mthat\u001b[0m \u001b[0mare\u001b[0m \u001b[0mpassed\u001b[0m \u001b[0mback\u001b[0m \u001b[0mwill\u001b[0m \u001b[0mmirror\u001b[0m \u001b[0mthose\u001b[0m \u001b[0mrequired\u001b[0m \u001b[0;32mfor\u001b[0m \u001b[0minsertion\u001b[0m \u001b[0minto\u001b[0m \u001b[0mthe\u001b[0m \u001b[0marticles\u001b[0m \u001b[0mtable\u001b[0m\u001b[0;34m\u001b[0m\u001b[0;34m\u001b[0m\u001b[0m\n\u001b[1;32m     38\u001b[0m         (name, source, connect_point, publish_time)\"\"\"\n\u001b[0;32m---> 39\u001b[0;31m         \u001b[0mtree\u001b[0m \u001b[0;34m=\u001b[0m \u001b[0metree\u001b[0m\u001b[0;34m.\u001b[0m\u001b[0mfromstring\u001b[0m\u001b[0;34m(\u001b[0m\u001b[0mrequests\u001b[0m\u001b[0;34m.\u001b[0m\u001b[0mget\u001b[0m\u001b[0;34m(\u001b[0m\u001b[0mrss_feed_link\u001b[0m\u001b[0;34m)\u001b[0m\u001b[0;34m.\u001b[0m\u001b[0mtext\u001b[0m\u001b[0;34m)\u001b[0m\u001b[0;34m\u001b[0m\u001b[0;34m\u001b[0m\u001b[0m\n\u001b[0m\u001b[1;32m     40\u001b[0m         \u001b[0marticles\u001b[0m \u001b[0;34m=\u001b[0m \u001b[0mtree\u001b[0m\u001b[0;34m.\u001b[0m\u001b[0mfindall\u001b[0m\u001b[0;34m(\u001b[0m\u001b[0;34m'.//item'\u001b[0m\u001b[0;34m)\u001b[0m\u001b[0;34m\u001b[0m\u001b[0;34m\u001b[0m\u001b[0m\n\u001b[1;32m     41\u001b[0m \u001b[0;34m\u001b[0m\u001b[0m\n",
      "\u001b[0;32msrc/lxml/etree.pyx\u001b[0m in \u001b[0;36mlxml.etree.fromstring\u001b[0;34m()\u001b[0m\n",
      "\u001b[0;32msrc/lxml/parser.pxi\u001b[0m in \u001b[0;36mlxml.etree._parseMemoryDocument\u001b[0;34m()\u001b[0m\n",
      "\u001b[0;31mValueError\u001b[0m: Unicode strings with encoding declaration are not supported. Please use bytes input or XML fragments without declaration."
     ]
    }
   ],
   "source": [
    "l_train.check_sources()"
   ]
  },
  {
   "cell_type": "code",
   "execution_count": 11,
   "metadata": {},
   "outputs": [
    {
     "name": "stdout",
     "output_type": "stream",
     "text": [
      "('Paul Krugman', 'RSS', 'http://www.nytimes.com/svc/collections/v1/publish/www.nytimes.com/column/paul-krugman/rss.xml', 1, '2019-10-24 16:39')\n",
      "('The Upshot', 'RSS', 'https://rss.nytimes.com/services/xml/rss/nyt/Upshot.xml', 1, '2019-10-25 13:31:00')\n"
     ]
    }
   ],
   "source": [
    "con = sqlite3.connect(settings.db_location)\n",
    "c = con.cursor()\n",
    "name='The Upshot'\n",
    "_type='RSS'\n",
    "connect_point='https://rss.nytimes.com/services/xml/rss/nyt/Upshot.xml'\n",
    "status=1\n",
    "c.execute(\"\"\"INSERT INTO sources (name, type, connect_point, status, insert_time)\n",
    "                VALUES(?,?,?,?,?)\"\"\", (name, _type, connect_point, status, \n",
    "              datetime.datetime.now().strftime('%Y-%m-%d %H:%M:00'))\n",
    "             )\n",
    "for row in c.execute(\"SELECT * FROM sources;\"):\n",
    "    print(row)\n",
    "con.close()"
   ]
  },
  {
   "cell_type": "code",
   "execution_count": 14,
   "metadata": {},
   "outputs": [
    {
     "name": "stdout",
     "output_type": "stream",
     "text": [
      "('Paul Krugman', 'RSS', 'http://www.nytimes.com/svc/collections/v1/publish/www.nytimes.com/column/paul-krugman/rss.xml', 1, '2019-10-24 16:39')\n"
     ]
    }
   ],
   "source": [
    "con = sqlite3.connect(settings.db_location)\n",
    "c = con.cursor()\n",
    "for row in c.execute(\"SELECT * FROM sources;\"):\n",
    "    print(row)"
   ]
  },
  {
   "cell_type": "code",
   "execution_count": 13,
   "metadata": {},
   "outputs": [
    {
     "name": "stdout",
     "output_type": "stream",
     "text": [
      "[('The Day the Trump Boom Died', 'Paul Krugman', 'https://www.nytimes.com/2019/10/24/opinion/trump-economy.html', 'Thu, 24 Oct 2019 20:35:56 GMT', '2019-10-25 13:31:00', False), ('Can Warren Escape the Medicare Trap?', 'Paul Krugman', 'https://www.nytimes.com/2019/10/21/opinion/warren-medicare-for-all.html', 'Mon, 21 Oct 2019 22:30:05 GMT', '2019-10-25 13:31:00', False), ('Democrats, Avoid the Robot Rabbit Hole', 'Paul Krugman', 'https://www.nytimes.com/2019/10/17/opinion/democrats-automation.html', 'Thu, 17 Oct 2019 21:53:37 GMT', '2019-10-25 13:31:00', False), ('God Is Now Trump’s Co-Conspirator', 'Paul Krugman', 'https://www.nytimes.com/2019/10/14/opinion/trump-william-barr-speech.html', 'Mon, 14 Oct 2019 22:30:07 GMT', '2019-10-25 13:31:00', False), ('Luckily, Trump Is an Unstable Non-Genius', 'Paul Krugman', 'https://www.nytimes.com/2019/10/10/opinion/donald-trump.html', 'Thu, 10 Oct 2019 22:30:08 GMT', '2019-10-25 13:31:00', False), ('The Education of Fanatical Centrists', 'Paul Krugman', 'https://www.nytimes.com/2019/10/07/opinion/republicans-trump-moderates.html', 'Mon, 07 Oct 2019 22:00:08 GMT', '2019-10-25 13:31:00', False), ('Here Comes the Trump Slump', 'Paul Krugman', 'https://www.nytimes.com/2019/10/03/opinion/trump-economy.html', 'Thu, 03 Oct 2019 21:30:07 GMT', '2019-10-25 13:31:00', False), ('Warren Versus the Petty Plutocrats', 'Paul Krugman', 'https://www.nytimes.com/2019/09/30/opinion/elizabeth-warren-wealth-tax.html', 'Mon, 30 Sep 2019 22:00:07 GMT', '2019-10-25 13:31:00', False), ('Impeaching Trump Is Good for the Economy', 'Paul Krugman', 'https://www.nytimes.com/2019/09/26/opinion/trump-economy.html', 'Thu, 26 Sep 2019 22:50:26 GMT', '2019-10-25 13:31:00', False), ('The Winners and Losers of the Latest Trump Scandal', 'Paul Krugman', 'https://www.nytimes.com/2019/09/24/opinion/ukraine-trump-impeachment.html', 'Tue, 24 Sep 2019 20:25:09 GMT', '2019-10-25 13:31:00', False)]\n"
     ]
    },
    {
     "data": {
      "text/plain": [
       "0"
      ]
     },
     "execution_count": 13,
     "metadata": {},
     "output_type": "execute_result"
    }
   ],
   "source": [
    "l_train._store_article_details()"
   ]
  },
  {
   "cell_type": "code",
   "execution_count": 24,
   "metadata": {},
   "outputs": [
    {
     "name": "stdout",
     "output_type": "stream",
     "text": [
      "('Paul Krugman', 'RSS', 'http://www.nytimes.com/svc/collections/v1/publish/www.nytimes.com/column/paul-krugman/rss.xml', 1, '2019-10-24 16:39')\n",
      "('The Upshot', 'RSS', 'https://rss.nytimes.com/services/xml/rss/nyt/Upshot.xml', 1, '2019-10-25 13:33:00')\n"
     ]
    }
   ],
   "source": [
    "con = sqlite3.connect(settings.db_location)\n",
    "c = con.cursor()\n",
    "for row in c.execute(\"SELECT * FROM sources;\"):\n",
    "    print(row)\n",
    "con.close()"
   ]
  }
 ],
 "metadata": {
  "kernelspec": {
   "display_name": "Python 3",
   "language": "python",
   "name": "python3"
  },
  "language_info": {
   "codemirror_mode": {
    "name": "ipython",
    "version": 3
   },
   "file_extension": ".py",
   "mimetype": "text/x-python",
   "name": "python",
   "nbconvert_exporter": "python",
   "pygments_lexer": "ipython3",
   "version": "3.7.4"
  }
 },
 "nbformat": 4,
 "nbformat_minor": 4
}
