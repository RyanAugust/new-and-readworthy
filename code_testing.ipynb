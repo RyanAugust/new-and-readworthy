{
 "cells": [
  {
   "cell_type": "code",
   "execution_count": 1,
   "metadata": {},
   "outputs": [],
   "source": [
    "import requests\n",
    "import sqlite3\n",
    "from lxml import etree\n",
    "import settings"
   ]
  },
  {
   "cell_type": "code",
   "execution_count": 3,
   "metadata": {},
   "outputs": [],
   "source": [
    "con = sqlite3.connect(settings.db_location)\n",
    "c = con.cursor()\n",
    "r = c.execute(\"SELECT * FROM sources;\")\n",
    "\n",
    "for row in r:\n",
    "    if row[3] == 1:\n",
    "        print('Pull!!! -> {connect_point}'.format(connect_point=row[2]))\n",
    "        url = row[2]"
   ]
  },
  {
   "cell_type": "code",
   "execution_count": 5,
   "metadata": {},
   "outputs": [],
   "source": [
    "tree = etree.fromstring(requests.get(url).text)"
   ]
  },
  {
   "cell_type": "code",
   "execution_count": 6,
   "metadata": {},
   "outputs": [],
   "source": [
    "articles = tree.findall('.//item')"
   ]
  },
  {
   "cell_type": "code",
   "execution_count": 39,
   "metadata": {},
   "outputs": [],
   "source": [
    "for article in articles:\n",
    "    article_details = article.getchildren()"
   ]
  },
  {
   "cell_type": "code",
   "execution_count": 11,
   "metadata": {},
   "outputs": [
    {
     "data": {
      "text/plain": [
       "'https://www.nytimes.com/2019/10/24/opinion/trump-economy.html'"
      ]
     },
     "execution_count": 11,
     "metadata": {},
     "output_type": "execute_result"
    }
   ],
   "source": [
    "articles[0].find('link').text"
   ]
  },
  {
   "cell_type": "code",
   "execution_count": 40,
   "metadata": {},
   "outputs": [],
   "source": [
    "article_data = {}\n",
    "for item in article_details:\n",
    "    article_data[item.tag] = item.text"
   ]
  },
  {
   "cell_type": "code",
   "execution_count": 41,
   "metadata": {},
   "outputs": [
    {
     "data": {
      "text/plain": [
       "{'title': 'Republicans Only Pretend to Be Patriots',\n",
       " 'link': 'https://www.nytimes.com/2019/09/23/opinion/democrats-republicans.html',\n",
       " 'description': 'And Democrats need to expose them for what they are.',\n",
       " 'author': 'By Paul Krugman',\n",
       " 'pubDate': 'Mon, 23 Sep 2019 22:00:06 GMT'}"
      ]
     },
     "execution_count": 41,
     "metadata": {},
     "output_type": "execute_result"
    }
   ],
   "source": [
    "article_data"
   ]
  },
  {
   "cell_type": "code",
   "execution_count": 14,
   "metadata": {},
   "outputs": [],
   "source": [
    "class seek(object):\n",
    "    def __init__(self, db_location=settings.db_location):\n",
    "        self.db_location = db_location\n",
    "        \n",
    "    def _connect_to_db(self):\n",
    "        \"\"\"Returns connection to package sqlite db, which holds all source urls \n",
    "        as well as articles which have been previously uplaoded to Instapaper by the application\"\"\"\n",
    "        con = sqlite3.connect(self.db_location)\n",
    "        return con\n",
    "    \n",
    "    def _gather_sources(self, connection):\n",
    "        \"\"\"Gathers active sources from the package db which will be referenced\n",
    "        by the application when seeking newly published articles\"\"\"\n",
    "        source_query = \"\"\"SELECT name, connect_point, type FROM sources WHERE status=1;\"\"\"\n",
    "    \n",
    "        c = con.cursor()\n",
    "        \n",
    "        source_dict = {}\n",
    "        for row in c.execute(source_query):\n",
    "            name, connect_point, _type = row\n",
    "            if _type in source_dict.keys():\n",
    "                soruce_dict[_type].append((name,connect_point))\n",
    "            else:\n",
    "                source_dict[_type] = [(name,connect_point)]\n",
    "        return source_dict\n",
    "\n",
    "    def _rss_gather(self, source_name, rss_feed_link):\n",
    "        \"\"\"Pull all articles given a rss feed link\n",
    "        Details that are passed back will mirror those required for insertion into the articles table\n",
    "        (name, source, connect_point, publish_time)\"\"\"\n",
    "        tree = etree.fromstring(requests.get(rss_feed_link).text)\n",
    "        articles = tree.findall('.//item')\n",
    "\n",
    "        articles_detials = []\n",
    "        status = 0\n",
    "        _type = 'RSS'\n",
    "        for article in articles:\n",
    "            articles_details.append((article.find('title').text, source_name,\n",
    "                                     article.find('link').text, article.find('pubDate').text))\n",
    "        return articles_detials\n",
    "                        \n",
    "    def check_sources(self):\n",
    "        con = _connect_to_db()\n",
    "        source_dict = _gather_sources(connection=con)\n",
    "        article_details = []\n",
    "        if 'RSS' in source_dict.keys():\n",
    "            for source in source_dict['RSS']:\n",
    "                source_name, rss_feed_link = source\n",
    "                article_details.append(self._rss_gather(source_name=source_name,\n",
    "                                                        rss_feed_link=rss_feed_link))\n",
    "        elif 'Medium' in source_dict.keys():\n",
    "            for source in source_dict['Medium']:\n",
    "                source_name, medium_feed_link = source\n",
    "                article_details.append(self._medium_gather(source_name=source_name,\n",
    "                                                           medium_link=medium_link))\n",
    "        \n",
    "        con.close()"
   ]
  },
  {
   "cell_type": "code",
   "execution_count": null,
   "metadata": {},
   "outputs": [],
   "source": []
  }
 ],
 "metadata": {
  "kernelspec": {
   "display_name": "Python 3",
   "language": "python",
   "name": "python3"
  },
  "language_info": {
   "codemirror_mode": {
    "name": "ipython",
    "version": 3
   },
   "file_extension": ".py",
   "mimetype": "text/x-python",
   "name": "python",
   "nbconvert_exporter": "python",
   "pygments_lexer": "ipython3",
   "version": "3.7.4"
  }
 },
 "nbformat": 4,
 "nbformat_minor": 4
}
